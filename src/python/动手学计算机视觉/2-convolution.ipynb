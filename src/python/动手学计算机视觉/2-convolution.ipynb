{
 "cells": [
  {
   "cell_type": "markdown",
   "metadata": {},
   "source": [
    "# 第二章 卷积\n",
    "- 对图像进行卷积就是提取图像特征的过程\n",
    "- 对于一副$H×W$的输入图像，我们对其零填充的层数为$p$，使用一个步长为$s$、大小为$k×k$的卷积核对其进行卷积，则输出矩阵的行数为$\\frac{H-k+2p}{s}+1$，列数为$\\frac{W-k+2p}{s}+1$\n",
    "- 对一副$H×W×L$的输入图像做二维卷积，需要卷积核的通道数也为$L$，即卷积核的实际维度为$k×k×L$，二维卷积核的通道默认和输入图像的通道数相同\n",
    "- 方波信号作为卷积核的数学形式：\n",
    "  $$\n",
    "  K=\\frac{1}{k^2}\\begin{bmatrix}1&...&1\\\\\\vdots& &\\vdots\\\\1&...&1\\end{bmatrix}_{k×k}\n",
    "  $$\n",
    "  其中，$k$为卷积核的大小\n",
    "- \n"
   ]
  },
  {
   "cell_type": "markdown",
   "metadata": {},
   "source": []
  },
  {
   "cell_type": "code",
   "execution_count": null,
   "metadata": {},
   "outputs": [],
   "source": [
    "from utils import conv_1d\n",
    "# 定义输入信号与卷积核\n",
    "a = [0,1,2,3,2,1,0]\n",
    "\n",
    "# 冲激函数\n",
    "k = [0,0,1,0,0]\n",
    "\n",
    "conv = conv_1d(a, k)\n",
    "conv.plot()"
   ]
  },
  {
   "cell_type": "code",
   "execution_count": null,
   "metadata": {},
   "outputs": [],
   "source": [
    "\"\"\"\"\"\n",
    "@Author     :   jiguotong\n",
    "@Contact    :   1776220977@qq.com\n",
    "@site       :   \n",
    "-----------------------------------------------\n",
    "@Time       :   2025/5/8\n",
    "@Description:   第2章 仿照cv2.filter2D实现二维卷积，使用二维方波对图像进行平滑\n",
    "\"\"\"\"\"\n",
    "import cv2\n",
    "import numpy as np\n",
    "from utils import conv_2d\n",
    "\n",
    "\n",
    "# 二维方波卷积核\n",
    "image =cv2.imread('lena.jpeg')\n",
    "size = 15\n",
    "# 因为二维的核函数的大小是n*n的，因此在实现方波信号时我们需要除以(size*size)，防止像素超出有效范围\n",
    "kernel = 1/size/size * np.ones((size, size))\n",
    "# 展示输入图像与卷积核\n",
    "conv = conv_2d(image, kernel)\n",
    "conv.conv()\n",
    "conv.plot()"
   ]
  },
  {
   "cell_type": "code",
   "execution_count": null,
   "metadata": {},
   "outputs": [],
   "source": [
    "\"\"\"\"\"\n",
    "@Author     :   jiguotong\n",
    "@Contact    :   1776220977@qq.com\n",
    "@site       :   \n",
    "-----------------------------------------------\n",
    "@Time       :   2025/5/8\n",
    "@Description:   第2章 习题(3).d设计卷积核，通过卷积将一副图像往右下移动10像素\n",
    "\"\"\"\"\"\n",
    "import cv2\n",
    "import numpy as np\n",
    "from utils import conv_2d\n",
    "\n",
    "\n",
    "# 设计卷积核，通过卷积将一副图像往右下移动10像素\n",
    "image =cv2.imread('lena.jpeg')\n",
    "kernel = np.zeros((10, 10))\n",
    "kernel[-1,-1]=1\n",
    "conv = conv_2d(image, kernel)\n",
    "conv.conv()\n",
    "conv.plot()"
   ]
  }
 ],
 "metadata": {
  "kernelspec": {
   "display_name": "All",
   "language": "python",
   "name": "python3"
  },
  "language_info": {
   "codemirror_mode": {
    "name": "ipython",
    "version": 3
   },
   "file_extension": ".py",
   "mimetype": "text/x-python",
   "name": "python",
   "nbconvert_exporter": "python",
   "pygments_lexer": "ipython3",
   "version": "3.9.18"
  },
  "orig_nbformat": 4
 },
 "nbformat": 4,
 "nbformat_minor": 2
}
