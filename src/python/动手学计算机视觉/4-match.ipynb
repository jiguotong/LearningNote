{
 "cells": [
  {
   "cell_type": "markdown",
   "metadata": {},
   "source": [
    "# 第四章 模板匹配  \n",
    "## 4.2 模板匹配的实现 \n",
    "- 模板匹配是图像匹配任务中最基础、最简单的一项匹配，是指在目标图像中找到与模板图像一致的位置。又分为单目标模板匹配和多目标模板匹配  \n",
    "- 模板匹配的过程是模板图像在输入图像上滑动，在每个滑动位置，计算模板与该输入图像子图的相似度，由此得到整幅图像与模板图像的相似度矩阵，进而找出最相似的位置，完成模板匹配  \n",
    "- 计算相似度的方法为归一化相关法，将模板与输入图像子图的对应位置元素相乘并相加，再进行归一化。原理自认为可参考两个向量的计算过程，两个向量完全相同时(方向一致 模相同)，向量内积的结果最大。\n",
    "- 基于滑动窗口的相似度匹配策略是许多计算机视觉方法的基础\n",
    "\n",
    "## 4.3 多目标模板匹配  \n",
    "- 多目标模板匹配需要设定一个阈值来筛选相似度  "
   ]
  },
  {
   "cell_type": "code",
   "execution_count": null,
   "metadata": {},
   "outputs": [],
   "source": [
    "\"\"\"\"\"\n",
    "@Author     :   jiguotong\n",
    "@Contact    :   1776220977@qq.com\n",
    "@site       :   \n",
    "-----------------------------------------------\n",
    "@Time       :   2025/5/12\n",
    "@Description:   第4章 对输入图像应用模板匹配，并框选出正确位置\n",
    "\"\"\"\"\"\n",
    "import cv2\n",
    "from utils import *\n",
    "\n",
    "# 读取输入图像与模板图像\n",
    "img = cv2.imread('lena.jpeg')\n",
    "template = cv2.imread('lenaface.jpg')\n",
    "\n",
    "# 进行单目标模板匹配\n",
    "test = temp_match_single(img, template)\n",
    "test.match()"
   ]
  },
  {
   "cell_type": "code",
   "execution_count": null,
   "metadata": {},
   "outputs": [],
   "source": [
    "\"\"\"\"\"\n",
    "@Author     :   jiguotong\n",
    "@Contact    :   1776220977@qq.com\n",
    "@site       :   \n",
    "-----------------------------------------------\n",
    "@Time       :   2025/5/12\n",
    "@Description:   第4章 对输入图像应用多目标模板匹配，并框选出正确位置，需要设置目标个数或者相似度阈值\n",
    "\"\"\"\"\"\n",
    "import cv2\n",
    "from utils import *\n",
    "\n",
    "img = cv2.imread('match_image.png')\n",
    "template = cv2.imread('match_template.png')\n",
    "\n",
    "test_multi = temp_match_multi(img, template, k=1)\n",
    "plot_image(test_multi.temp[:, :, ::-1], 'Template Image')\n",
    "plot_image(test_multi.img[:, :, ::-1], 'Target Image')\n",
    "test_multi.match()"
   ]
  }
 ],
 "metadata": {
  "kernelspec": {
   "display_name": "All",
   "language": "python",
   "name": "python3"
  },
  "language_info": {
   "codemirror_mode": {
    "name": "ipython",
    "version": 3
   },
   "file_extension": ".py",
   "mimetype": "text/x-python",
   "name": "python",
   "nbconvert_exporter": "python",
   "pygments_lexer": "ipython3",
   "version": "3.9.18"
  },
  "orig_nbformat": 4
 },
 "nbformat": 4,
 "nbformat_minor": 2
}
