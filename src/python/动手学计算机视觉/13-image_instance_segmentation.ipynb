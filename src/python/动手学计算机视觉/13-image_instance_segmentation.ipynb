{
 "cells": [
  {
   "cell_type": "markdown",
   "metadata": {},
   "source": [
    "# 第十三章  实例分割  \n",
    "## 13.1 概览  \n",
    "- 实例分割的任务是语义分割任务与目标检测任务的结合。  \n",
    "- 实例分割的目的是从图像中分割出每个目标实例的掩膜(mask)。  \n",
    "## 13.2 Mask R-CNN  \n",
    "- Mask R-CNN是Faster R-CNN的续作，在此基础上进行改进、添加新模块，主要区别如下：  \n",
    "  (1)引入**特征金字塔网络(feature pyramid network, FPN)**与ResNet一起作为主干网络，FPN用于融合多尺度特征信息。  \n",
    "  (2)提出**感兴趣区域对齐(ROI align)**取代Faster R-CNN中的ROI池化作为目标区域的特征提取器，用于提取整个候选区域特征并将候选区域特征图尺寸归一化到统一大小。  \n",
    "  (3)增加了一个用于预测掩膜的分支，该分支与分类头和回归头并行。  \n",
    "### 13.2.1 特征金字塔网络  \n",
    "- 高层特征图首先通过上采样（如双线性插值、反卷积等）操作，使其分辨率与低一层特征图相匹配。然后，将上采样后的高层特征图与对应的低层特征图进行融合。这种融合通常是通过逐元素相加（element-wise addition）或特征拼接（concatenation）的方式实现的。在融合过程中，为了保持特征图的通道数一致，可能需要对低层特征图进行1x1卷积操作来减少其通道数。  \n",
    "### 13.2.2 感兴趣区域对齐  \n",
    "- RoI Align 原理详解：  \n",
    "  (1)对于每个 RoI（浮点数坐标），将其划分为固定大小的网格（如 7×7）。  \n",
    "  (2)在每个网格单元内，取 固定位置的采样点（例如4个）。  \n",
    "  (3)通过 双线性插值（bilinear interpolation）计算这些采样点的特征值。  \n",
    "  (4)对采样点特征做平均（或 max）作为该单元的输出值。  \n",
    "  **🧠关键点：不再四舍五入坐标！而是直接用浮点坐标通过插值精确计算。**\n",
    "## 13.3 Mask R-CNN流程  \n",
    "![Mask R-CNN流程图](<Mask R-CNN.jpg>)  \n",
    "\n",
    "## 13.4 Mask R-CNN项目  \n",
    "https://github.com/jiguotong/PyTorch-Simple-MaskRCNN  "
   ]
  }
 ],
 "metadata": {
  "language_info": {
   "name": "python"
  },
  "orig_nbformat": 4
 },
 "nbformat": 4,
 "nbformat_minor": 2
}
