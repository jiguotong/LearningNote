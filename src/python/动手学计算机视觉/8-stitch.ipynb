{
 "cells": [
  {
   "cell_type": "markdown",
   "metadata": {},
   "source": [
    "# 第八章 图像拼接  \n",
    "## 8.1 图像变换  \n",
    "- **将笛卡尔坐标系拓展至齐次坐标系，可以将平移、旋转、缩放、对称等图像变换统一为矩阵乘法**。上述变换也称为仿射变换(affine transformation), 对应的矩阵形式为:  \n",
    "$$\n",
    "\\mathbf{T}=\\begin{bmatrix}\n",
    "a & b & c \\\\\n",
    "d & e & f \\\\\n",
    "0 & 0 & 1\n",
    "\\end{bmatrix}\n",
    "$$\n",
    "- 在$\\mathbf{T}$最后一行的值不再是$[0,0,1]$的情况下，图像发生了一定程度的扭曲与畸变，形如$\\mathbf{T}=\\begin{bmatrix}\n",
    "a & b & c \\\\\n",
    "d & e & f \\\\\n",
    "g & h & 1\n",
    "\\end{bmatrix}$变换操作称作投影变换，此种矩阵也成为单应性矩阵(Homography Matrix)。  \n",
    "## 8.2 图像拼接  \n",
    "- 图像拼接的原理是通过两张图像匹配的特征点，获得变换矩阵，从而对图像应用变换矩阵，进而对图像进行拼接。  \n",
    "- 图像拼接的过程总结为以下三步：  \n",
    "1.计算两幅图像中的特征点；  \n",
    "2.将两张图像的特征点进行匹配；  \n",
    "3.根据匹配的特征点对，利用RANSAC算法计算图像变换矩阵；  \n",
    "4.将图像进行拼接。  \n",
    "\n",
    "## 8.3 RANSAC  \n",
    "- RANSAC（随机采样一致性，Random Sample Consensus）是一种鲁棒的参数估计方法，常用于去除异常值（outliers）的情况下，估计数据之间的几何变换关系。  \n",
    "- 在图像拼接中，应用RANSAC的目的是**剔除错误匹配点，鲁棒估计图像之间的几何变换（如单应矩阵 Homography）**。  \n",
    "\n",
    "## 8.4 流程实现  \n",
    "\n",
    "\n",
    "\n"
   ]
  }
 ],
 "metadata": {
  "language_info": {
   "name": "python"
  },
  "orig_nbformat": 4
 },
 "nbformat": 4,
 "nbformat_minor": 2
}
