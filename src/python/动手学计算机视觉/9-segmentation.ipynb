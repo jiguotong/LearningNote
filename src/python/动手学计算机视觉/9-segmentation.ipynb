{
 "cells": [
  {
   "cell_type": "markdown",
   "metadata": {},
   "source": [
    "# 第九章 图像分割  \n",
    "## 9.1 简介  \n",
    "- 图像分割可分为无监督图像分割和有监督图像分割。  \n",
    "- 无监督图像分割，其目的是把图像划分为若干互不相交的区域，使得具有相似特征的像素  被划分到同一区域，具有不同特征得像素被划分到不同的区域。  \n",
    "## 9.2 图像分割算法  \n",
    "- 图像分割的本质就是对像素进行聚类，所以图像分割算法一般是基于聚类算法的。  \n",
    "### 9.2.1 基于k均值聚类的图像分割算法  \n",
    "- k均值(k-means)旨在将数据集划分为k个不同的、不重叠的子集或簇，每个数据样本归属于距离其最近的簇。有如下关键步骤：  \n",
    "  (1)初始化：从数据集中随机选择k个数据样本，并将其视为初始簇中心。  \n",
    "  (2)分配：将每个数据样本分配给与其距离最近的簇中心所属的簇。  \n",
    "  (3)更新：当所有数据样本分配完毕，计算每个簇中所有数据样本的均值，并将其作为新的簇中心。  \n",
    "  (4)重复：重复分配和更新步骤，直到簇中心不再发生显著变化，或达到预设的迭代次数。  \n",
    "\n",
    "### 9.2.2 基于图切割的图像分割算法  \n",
    "- 将图像中的每个像素看作图的一个节点，像素之间的相似性定义为 边的权重。图像分割的目标是将图划分为两个或多个子图（即图像区域），使得：  \n",
    "子图之间的边权重尽可能小（边界弱连接）  \n",
    "子图内部边权重尽可能大（区域内强连接）  \n",
    "- 图切割分割方法：  \n",
    "  **Min-Cut：寻找两个子图之间边权最小的割**  \n",
    "  **Normalized Cut(Ncut)：在Min-Cut基础上归一化，避免小区域偏好**，论文链接[Normalize Cuts Image Segmentation algorithm](https://people.eecs.berkeley.edu/~malik/papers/SM-ncut.pdf)  \n",
    "  **Graph Cuts(基于能量函数)：基于最大流-最小割理论求解能量最小路径**，论文链接[Interactive Graph Cuts for Optimal Boundary & Region Segmentation of Objects in N-D Images](https://my.eng.utah.edu/~cs7640/readings/boykov_iccv01.pdf)  \n",
    "  **GrabCut：Graph Cut的改进，用于交互式前景分割**，论文链接[GrabCut: Interactive Foreground Extraction using Iterated Graph Cuts](https://pages.cs.wisc.edu/~dyer/cs534-fall11/papers/grabcut-rother.pdf)  "
   ]
  }
 ],
 "metadata": {
  "language_info": {
   "name": "python"
  },
  "orig_nbformat": 4
 },
 "nbformat": 4,
 "nbformat_minor": 2
}
